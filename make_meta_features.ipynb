{
 "cells": [
  {
   "cell_type": "code",
   "execution_count": 1,
   "metadata": {},
   "outputs": [],
   "source": [
    "import pandas as pd\n",
    "from sklearn.feature_extraction.text import TfidfVectorizer\n",
    "from sklearn.linear_model import LogisticRegression, SGDClassifier\n",
    "from sklearn.naive_bayes import MultinomialNB\n",
    "from sklearn.svm import LinearSVC\n",
    "from sklearn.metrics import accuracy_score\n",
    "\n",
    "import warnings\n",
    "warnings.filterwarnings('ignore')"
   ]
  },
  {
   "cell_type": "code",
   "execution_count": 2,
   "metadata": {},
   "outputs": [],
   "source": [
    "df_tv = pd.read_csv('data/train_folds.csv')\n",
    "df_tt = pd.read_csv('data/test.tsv', sep='\\t')\n",
    "df_tt['phrase'] = df_tt['phrase'].apply(lambda s: s.replace(\"n't\", \"not\"))"
   ]
  },
  {
   "cell_type": "code",
   "execution_count": 3,
   "metadata": {},
   "outputs": [],
   "source": [
    "classifiers = {\n",
    "    'lr': LogisticRegression,\n",
    "    'lsvc': LinearSVC,\n",
    "    'mnb': MultinomialNB,\n",
    "    'sgd': SGDClassifier\n",
    "}\n",
    "\n",
    "best_params = {\n",
    "    'lr': {'C': 10.0},\n",
    "    'lsvc': {'C': 1.0},\n",
    "    'mnb': {'alpha': 0.4},\n",
    "    'sgd': {'alpha': 1e-05, 'penalty': 'l2'}\n",
    "}\n",
    "\n",
    "vectorizer = TfidfVectorizer(\n",
    "    token_pattern=r'\\b[^\\d\\W][^\\d\\W]+\\b',\n",
    "    ngram_range=(1, 2),\n",
    "    max_df=0.9,\n",
    "    lowercase=True\n",
    ")"
   ]
  },
  {
   "cell_type": "code",
   "execution_count": null,
   "metadata": {},
   "outputs": [],
   "source": [
    "for kfold in range(5):\n",
    "    df_tr = df_tv[df_tv['kfold'] != kfold]\n",
    "    df_vl = df_tv[df_tv['kfold'] == kfold]\n",
    "    xtr = vectorizer.fit_transform(df_tr['Phrase'])\n",
    "    xvl = vectorizer.transform(df_vl['Phrase'])\n",
    "    ytr = df_tr['Sentiment']\n",
    "    yvl = df_vl['Sentiment']\n",
    "    print(f'kfold: {kfold}')\n",
    "    print('*'*100)\n",
    "    for name, classifer in classifiers.items():\n",
    "        ypred = classifer(**best_params[name]).fit(xtr, ytr).predict(xvl)\n",
    "        df_tv.loc[df_vl.index, name] = ypred\n",
    "        print(f'accuracy for {name}: {accuracy_score(yvl, ypred)}')\n",
    "\n",
    "\n",
    "df_tv.to_csv('data/train_meta.csv', columns=['PhraseId', 'lr', 'lsvc', 'mnb', 'sgd', 'Sentiment'], index=False)"
   ]
  },
  {
   "cell_type": "code",
   "execution_count": 7,
   "metadata": {},
   "outputs": [],
   "source": [
    "xtv = vectorizer.fit_transform(df_tv['Phrase'])\n",
    "xtt = vectorizer.transform(df_tt['Phrase'])\n",
    "ytv = df_tr['Sentiment']\n",
    "for name, classifer in classifiers.items():\n",
    "    ytt = classifer(**best_params[name]).fit(xtr, ytr).predict(xtt)\n",
    "    df_tt[name] = ytt\n",
    "\n",
    "df_tt.to_csv('data/test_meta.csv', columns=['PhraseId', 'lr', 'lsvc', 'mnb', 'sgd'], index=False)"
   ]
  },
  {
   "cell_type": "code",
   "execution_count": null,
   "metadata": {},
   "outputs": [],
   "source": []
  }
 ],
 "metadata": {
  "kernelspec": {
   "display_name": "Python 3.10.5 64-bit",
   "language": "python",
   "name": "python3"
  },
  "language_info": {
   "codemirror_mode": {
    "name": "ipython",
    "version": 3
   },
   "file_extension": ".py",
   "mimetype": "text/x-python",
   "name": "python",
   "nbconvert_exporter": "python",
   "pygments_lexer": "ipython3",
   "version": "3.10.5"
  },
  "orig_nbformat": 4,
  "vscode": {
   "interpreter": {
    "hash": "d597cde149abeb15f6ee103d6835e72487950cb0d72203742dce2097b2edee99"
   }
  }
 },
 "nbformat": 4,
 "nbformat_minor": 2
}
