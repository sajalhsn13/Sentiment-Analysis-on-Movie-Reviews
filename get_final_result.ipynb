{
 "cells": [
  {
   "cell_type": "code",
   "execution_count": 25,
   "metadata": {},
   "outputs": [],
   "source": [
    "import pandas as pd\n",
    "import seaborn as sns\n",
    "import matplotlib.pyplot as plt\n",
    "import xgboost as xgb\n",
    "\n",
    "from matplotlib import rcParams\n",
    "\n",
    "%matplotlib inline\n",
    "\n",
    "rcParams['figure.figsize'] = (20, 8)"
   ]
  },
  {
   "cell_type": "code",
   "execution_count": 2,
   "metadata": {},
   "outputs": [],
   "source": [
    "df_tv = pd.read_csv('data/train_meta.csv', index_col='PhraseId')\n",
    "df_tt = pd.read_csv('data/test_meta.csv', index_col='PhraseId')"
   ]
  },
  {
   "cell_type": "code",
   "execution_count": null,
   "metadata": {},
   "outputs": [],
   "source": [
    "sns.displot(\n",
    "    data=df_tv,\n",
    "    x='lsvc',\n",
    "    hue='Sentiment',\n",
    "    kind='hist',\n",
    "    palette='husl'\n",
    ")\n",
    "plt.show()"
   ]
  },
  {
   "cell_type": "code",
   "execution_count": null,
   "metadata": {},
   "outputs": [],
   "source": [
    "from statistics import mode\n",
    "from sklearn.metrics import accuracy_score\n",
    "from sklearn.model_selection import train_test_split\n",
    "\n",
    "xtv, ytv = df_tv.drop('Sentiment', axis=1), df_tv['Sentiment']\n",
    "xtr, xvl, ytr, yvl = train_test_split(xtv, ytv, test_size=0.2, random_state=59, stratify=ytv)\n",
    "model = xgb.XGBClassifier().fit(xtr, ytr)\n",
    "ypd = model.predict(xvl)\n",
    "accuracy_score(yvl, ypd)"
   ]
  },
  {
   "cell_type": "code",
   "execution_count": null,
   "metadata": {},
   "outputs": [],
   "source": [
    "model.fit(xtv, ytv)\n",
    "ypd = model.predict(df_tt)\n",
    "df_tt['Sentiment'] = ypd"
   ]
  },
  {
   "cell_type": "code",
   "execution_count": 34,
   "metadata": {},
   "outputs": [],
   "source": [
    "df_tt.to_csv('data/result.csv', columns=['Sentiment'])"
   ]
  },
  {
   "cell_type": "code",
   "execution_count": null,
   "metadata": {},
   "outputs": [],
   "source": []
  }
 ],
 "metadata": {
  "kernelspec": {
   "display_name": "Python 3.10.5 64-bit",
   "language": "python",
   "name": "python3"
  },
  "language_info": {
   "codemirror_mode": {
    "name": "ipython",
    "version": 3
   },
   "file_extension": ".py",
   "mimetype": "text/x-python",
   "name": "python",
   "nbconvert_exporter": "python",
   "pygments_lexer": "ipython3",
   "version": "3.10.5"
  },
  "orig_nbformat": 4,
  "vscode": {
   "interpreter": {
    "hash": "d597cde149abeb15f6ee103d6835e72487950cb0d72203742dce2097b2edee99"
   }
  }
 },
 "nbformat": 4,
 "nbformat_minor": 2
}
