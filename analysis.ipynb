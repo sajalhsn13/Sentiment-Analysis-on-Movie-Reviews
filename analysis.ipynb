{
 "cells": [
  {
   "cell_type": "code",
   "execution_count": null,
   "id": "01259776-5963-4c58-9362-c87ae8d23949",
   "metadata": {},
   "outputs": [],
   "source": [
    "import numpy as np\n",
    "import pandas as pd\n",
    "import matplotlib.pyplot as plt\n",
    "import seaborn as sns\n",
    "import nltk\n",
    "\n",
    "from sklearn.feature_extraction.text import TfidfVectorizer, ENGLISH_STOP_WORDS\n",
    "\n",
    "nltk.download('punkt')\n",
    "%matplotlib inline\n",
    "\n",
    "import warnings\n",
    "warnings.filterwarnings('ignore')"
   ]
  },
  {
   "cell_type": "code",
   "execution_count": 3,
   "id": "03a8f02e-f0f1-4810-81e7-f19e89ff79a8",
   "metadata": {},
   "outputs": [],
   "source": [
    "stemmer = nltk.stem.PorterStemmer()\n",
    "def tokenizer(text: str):\n",
    "  text = text.lower()\n",
    "  tokens = [word for word in nltk.word_tokenize(text) if word.isalpha() and word not in ENGLISH_STOP_WORDS]\n",
    "  tokens = [stemmer.stem(word) for word in tokens]\n",
    "  return tokens"
   ]
  },
  {
   "cell_type": "code",
   "execution_count": 5,
   "id": "dbb18c51-35b1-42f9-af88-2472c697258d",
   "metadata": {},
   "outputs": [],
   "source": [
    "df_train = pd.read_csv('train.tsv', sep='\\t')\n",
    "df_test = pd.read_csv('train.tsv', sep='\\t')\n",
    "\n",
    "df_train.drop('SentenceId', axis=1, inplace=True)\n",
    "df_test.drop('SentenceId', axis=1, inplace=True)\n",
    "\n",
    "df_train['Phrase'] = df_train['Phrase'].apply(lambda s: s.replace(\"n't\", \"not\"))\n",
    "df_test['Phrase'] = df_test['Phrase'].apply(lambda s: s.replace(\"n't\", \"not\"))\n",
    "\n",
    "vectorizer = TfidfVectorizer(\n",
    "    tokenizer=tokenizer,\n",
    "    ngram_range=(1, 2),\n",
    "    stop_words=ENGLISH_STOP_WORDS,\n",
    "    max_df=0.9,\n",
    "    max_features=1000\n",
    "    ).fit(df_train['Phrase'])\n",
    "\n",
    "train_vec = vectorizer.transform(df_train['Phrase'])\n",
    "test_vec = vectorizer.transform(df_test['Phrase'])\n",
    "train_tempdf = pd.DataFrame(train_vec.toarray(), columns=vectorizer.get_feature_names_out())\n",
    "test_tempdf = pd.DataFrame(test_vec.toarray(), columns=vectorizer.get_feature_names_out())\n",
    "df_train = pd.concat([df_train, train_tempdf], axis=1)\n",
    "df_test = pd.concat([df_test, test_tempdf], axis=1)\n",
    "\n",
    "del train_vec, test_vec, train_tempdf, test_tempdf\n",
    "\n",
    "df_train.drop('Phrase', axis=1, inplace=True)\n",
    "df_test.drop('Phrase', axis=1, inplace=True)"
   ]
  },
  {
   "cell_type": "code",
   "execution_count": 5,
   "id": "2c7bb18f-67c8-48b2-ae26-5880d19816d1",
   "metadata": {},
   "outputs": [],
   "source": [
    "df_train.to_csv('Sentiment Analysis on Movie Reviews/vec_train.csv')\n",
    "df_test.to_csv('Sentiment Analysis on Movie Reviews/vec_test.csv')"
   ]
  },
  {
   "cell_type": "code",
   "execution_count": null,
   "id": "a3157166",
   "metadata": {},
   "outputs": [],
   "source": []
  }
 ],
 "metadata": {
  "kernelspec": {
   "display_name": "Python 3.10.5 64-bit",
   "language": "python",
   "name": "python3"
  },
  "language_info": {
   "codemirror_mode": {
    "name": "ipython",
    "version": 3
   },
   "file_extension": ".py",
   "mimetype": "text/x-python",
   "name": "python",
   "nbconvert_exporter": "python",
   "pygments_lexer": "ipython3",
   "version": "3.10.5"
  },
  "vscode": {
   "interpreter": {
    "hash": "d597cde149abeb15f6ee103d6835e72487950cb0d72203742dce2097b2edee99"
   }
  }
 },
 "nbformat": 4,
 "nbformat_minor": 5
}
