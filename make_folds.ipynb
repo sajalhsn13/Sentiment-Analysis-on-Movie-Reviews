{
 "cells": [
  {
   "cell_type": "code",
   "execution_count": 1,
   "id": "01259776-5963-4c58-9362-c87ae8d23949",
   "metadata": {},
   "outputs": [],
   "source": [
    "import pandas as pd\n",
    "from sklearn import model_selection\n",
    "\n",
    "import warnings\n",
    "warnings.filterwarnings('ignore')"
   ]
  },
  {
   "cell_type": "code",
   "execution_count": 2,
   "id": "dbb18c51-35b1-42f9-af88-2472c697258d",
   "metadata": {},
   "outputs": [],
   "source": [
    "df_tv = pd.read_csv('data/train.tsv', sep='\\t')\n",
    "\n",
    "df_tv['kfold'] = -1\n",
    "skf = model_selection.StratifiedKFold(n_splits=5, shuffle=True)\n",
    "for f, (_, vi) in enumerate(skf.split(X=df_tv, y=df_tv['Sentiment'])):\n",
    "    df_tv.loc[vi, 'kfold'] = f\n",
    "\n",
    "df_tv.to_csv('data/train_folds.csv', index=False)"
   ]
  }
 ],
 "metadata": {
  "kernelspec": {
   "display_name": "Python 3.10.5 64-bit",
   "language": "python",
   "name": "python3"
  },
  "language_info": {
   "codemirror_mode": {
    "name": "ipython",
    "version": 3
   },
   "file_extension": ".py",
   "mimetype": "text/x-python",
   "name": "python",
   "nbconvert_exporter": "python",
   "pygments_lexer": "ipython3",
   "version": "3.10.5"
  },
  "vscode": {
   "interpreter": {
    "hash": "d597cde149abeb15f6ee103d6835e72487950cb0d72203742dce2097b2edee99"
   }
  }
 },
 "nbformat": 4,
 "nbformat_minor": 5
}
