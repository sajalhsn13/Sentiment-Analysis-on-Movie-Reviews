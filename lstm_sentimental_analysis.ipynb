{
  "nbformat": 4,
  "nbformat_minor": 0,
  "metadata": {
    "colab": {
      "name": "lstm_sentimental_analysis.ipynb",
      "provenance": [],
      "collapsed_sections": []
    },
    "kernelspec": {
      "name": "python3",
      "display_name": "Python 3"
    },
    "language_info": {
      "name": "python"
    },
    "accelerator": "GPU",
    "gpuClass": "standard"
  },
  "cells": [
    {
      "cell_type": "code",
      "source": [
        "from google.colab import drive\n",
        "drive.mount('/content/drive')"
      ],
      "metadata": {
        "colab": {
          "base_uri": "https://localhost:8080/"
        },
        "id": "BDfrmv6tE2h8",
        "outputId": "91db3a53-b331-4878-af05-9c359b115108"
      },
      "execution_count": 1,
      "outputs": [
        {
          "output_type": "stream",
          "name": "stdout",
          "text": [
            "Drive already mounted at /content/drive; to attempt to forcibly remount, call drive.mount(\"/content/drive\", force_remount=True).\n"
          ]
        }
      ]
    },
    {
      "cell_type": "code",
      "execution_count": 2,
      "metadata": {
        "id": "FmovhrM2Dduu"
      },
      "outputs": [],
      "source": [
        "import numpy as np\n",
        "import pandas as pd\n",
        "from sklearn.model_selection import train_test_split\n",
        "import tensorflow as tf\n",
        "import tensorflow.keras as kr\n",
        "from tensorflow.keras.preprocessing.text import Tokenizer\n",
        "from tensorflow.keras.preprocessing.sequence import pad_sequences\n",
        "import warnings\n",
        "\n",
        "warnings.filterwarnings('ignore')\n",
        "\n",
        "\n",
        "NUM_CLASSES = 5\n",
        "EPOCHS = 50\n",
        "BATCHS = 128\n",
        "PATIENCE = 15\n",
        "SEED = 57\n",
        "\n",
        "\n",
        "tf.random.set_seed(SEED)\n",
        "DATA_DIR = '/content/drive/MyDrive/datasets/sentiment-analysis-on-movie-reviews'"
      ]
    },
    {
      "cell_type": "code",
      "source": [
        "! ls /content/drive/MyDrive/datasets/sentiment-analysis-on-movie-reviews"
      ],
      "metadata": {
        "colab": {
          "base_uri": "https://localhost:8080/"
        },
        "id": "mvMkpTPAE0Ea",
        "outputId": "8931ddf8-6d3b-4ee9-85c8-4cc8233f0127"
      },
      "execution_count": 3,
      "outputs": [
        {
          "output_type": "stream",
          "name": "stdout",
          "text": [
            "sampleSubmission.csv  test.tsv\ttrain.tsv\n"
          ]
        }
      ]
    },
    {
      "cell_type": "code",
      "source": [
        "df_tv = pd.read_csv(DATA_DIR+'/train.tsv', sep='\\t', index_col='PhraseId')\n",
        "df_tt = pd.read_csv(DATA_DIR+'/test.tsv', sep='\\t', index_col='PhraseId')"
      ],
      "metadata": {
        "id": "yyMBAFyAF1v1"
      },
      "execution_count": 4,
      "outputs": []
    },
    {
      "cell_type": "code",
      "source": [
        "df_tv.head()"
      ],
      "metadata": {
        "colab": {
          "base_uri": "https://localhost:8080/",
          "height": 238
        },
        "id": "dQBAIz2UGH7B",
        "outputId": "b4e6811c-2564-42b5-c41b-af0cf2fac838"
      },
      "execution_count": 5,
      "outputs": [
        {
          "output_type": "execute_result",
          "data": {
            "text/plain": [
              "          SentenceId                                             Phrase  \\\n",
              "PhraseId                                                                  \n",
              "1                  1  A series of escapades demonstrating the adage ...   \n",
              "2                  1  A series of escapades demonstrating the adage ...   \n",
              "3                  1                                           A series   \n",
              "4                  1                                                  A   \n",
              "5                  1                                             series   \n",
              "\n",
              "          Sentiment  \n",
              "PhraseId             \n",
              "1                 1  \n",
              "2                 2  \n",
              "3                 2  \n",
              "4                 2  \n",
              "5                 2  "
            ],
            "text/html": [
              "\n",
              "  <div id=\"df-3aa8e1c8-b797-4d15-8849-fe565a6a46f5\">\n",
              "    <div class=\"colab-df-container\">\n",
              "      <div>\n",
              "<style scoped>\n",
              "    .dataframe tbody tr th:only-of-type {\n",
              "        vertical-align: middle;\n",
              "    }\n",
              "\n",
              "    .dataframe tbody tr th {\n",
              "        vertical-align: top;\n",
              "    }\n",
              "\n",
              "    .dataframe thead th {\n",
              "        text-align: right;\n",
              "    }\n",
              "</style>\n",
              "<table border=\"1\" class=\"dataframe\">\n",
              "  <thead>\n",
              "    <tr style=\"text-align: right;\">\n",
              "      <th></th>\n",
              "      <th>SentenceId</th>\n",
              "      <th>Phrase</th>\n",
              "      <th>Sentiment</th>\n",
              "    </tr>\n",
              "    <tr>\n",
              "      <th>PhraseId</th>\n",
              "      <th></th>\n",
              "      <th></th>\n",
              "      <th></th>\n",
              "    </tr>\n",
              "  </thead>\n",
              "  <tbody>\n",
              "    <tr>\n",
              "      <th>1</th>\n",
              "      <td>1</td>\n",
              "      <td>A series of escapades demonstrating the adage ...</td>\n",
              "      <td>1</td>\n",
              "    </tr>\n",
              "    <tr>\n",
              "      <th>2</th>\n",
              "      <td>1</td>\n",
              "      <td>A series of escapades demonstrating the adage ...</td>\n",
              "      <td>2</td>\n",
              "    </tr>\n",
              "    <tr>\n",
              "      <th>3</th>\n",
              "      <td>1</td>\n",
              "      <td>A series</td>\n",
              "      <td>2</td>\n",
              "    </tr>\n",
              "    <tr>\n",
              "      <th>4</th>\n",
              "      <td>1</td>\n",
              "      <td>A</td>\n",
              "      <td>2</td>\n",
              "    </tr>\n",
              "    <tr>\n",
              "      <th>5</th>\n",
              "      <td>1</td>\n",
              "      <td>series</td>\n",
              "      <td>2</td>\n",
              "    </tr>\n",
              "  </tbody>\n",
              "</table>\n",
              "</div>\n",
              "      <button class=\"colab-df-convert\" onclick=\"convertToInteractive('df-3aa8e1c8-b797-4d15-8849-fe565a6a46f5')\"\n",
              "              title=\"Convert this dataframe to an interactive table.\"\n",
              "              style=\"display:none;\">\n",
              "        \n",
              "  <svg xmlns=\"http://www.w3.org/2000/svg\" height=\"24px\"viewBox=\"0 0 24 24\"\n",
              "       width=\"24px\">\n",
              "    <path d=\"M0 0h24v24H0V0z\" fill=\"none\"/>\n",
              "    <path d=\"M18.56 5.44l.94 2.06.94-2.06 2.06-.94-2.06-.94-.94-2.06-.94 2.06-2.06.94zm-11 1L8.5 8.5l.94-2.06 2.06-.94-2.06-.94L8.5 2.5l-.94 2.06-2.06.94zm10 10l.94 2.06.94-2.06 2.06-.94-2.06-.94-.94-2.06-.94 2.06-2.06.94z\"/><path d=\"M17.41 7.96l-1.37-1.37c-.4-.4-.92-.59-1.43-.59-.52 0-1.04.2-1.43.59L10.3 9.45l-7.72 7.72c-.78.78-.78 2.05 0 2.83L4 21.41c.39.39.9.59 1.41.59.51 0 1.02-.2 1.41-.59l7.78-7.78 2.81-2.81c.8-.78.8-2.07 0-2.86zM5.41 20L4 18.59l7.72-7.72 1.47 1.35L5.41 20z\"/>\n",
              "  </svg>\n",
              "      </button>\n",
              "      \n",
              "  <style>\n",
              "    .colab-df-container {\n",
              "      display:flex;\n",
              "      flex-wrap:wrap;\n",
              "      gap: 12px;\n",
              "    }\n",
              "\n",
              "    .colab-df-convert {\n",
              "      background-color: #E8F0FE;\n",
              "      border: none;\n",
              "      border-radius: 50%;\n",
              "      cursor: pointer;\n",
              "      display: none;\n",
              "      fill: #1967D2;\n",
              "      height: 32px;\n",
              "      padding: 0 0 0 0;\n",
              "      width: 32px;\n",
              "    }\n",
              "\n",
              "    .colab-df-convert:hover {\n",
              "      background-color: #E2EBFA;\n",
              "      box-shadow: 0px 1px 2px rgba(60, 64, 67, 0.3), 0px 1px 3px 1px rgba(60, 64, 67, 0.15);\n",
              "      fill: #174EA6;\n",
              "    }\n",
              "\n",
              "    [theme=dark] .colab-df-convert {\n",
              "      background-color: #3B4455;\n",
              "      fill: #D2E3FC;\n",
              "    }\n",
              "\n",
              "    [theme=dark] .colab-df-convert:hover {\n",
              "      background-color: #434B5C;\n",
              "      box-shadow: 0px 1px 3px 1px rgba(0, 0, 0, 0.15);\n",
              "      filter: drop-shadow(0px 1px 2px rgba(0, 0, 0, 0.3));\n",
              "      fill: #FFFFFF;\n",
              "    }\n",
              "  </style>\n",
              "\n",
              "      <script>\n",
              "        const buttonEl =\n",
              "          document.querySelector('#df-3aa8e1c8-b797-4d15-8849-fe565a6a46f5 button.colab-df-convert');\n",
              "        buttonEl.style.display =\n",
              "          google.colab.kernel.accessAllowed ? 'block' : 'none';\n",
              "\n",
              "        async function convertToInteractive(key) {\n",
              "          const element = document.querySelector('#df-3aa8e1c8-b797-4d15-8849-fe565a6a46f5');\n",
              "          const dataTable =\n",
              "            await google.colab.kernel.invokeFunction('convertToInteractive',\n",
              "                                                     [key], {});\n",
              "          if (!dataTable) return;\n",
              "\n",
              "          const docLinkHtml = 'Like what you see? Visit the ' +\n",
              "            '<a target=\"_blank\" href=https://colab.research.google.com/notebooks/data_table.ipynb>data table notebook</a>'\n",
              "            + ' to learn more about interactive tables.';\n",
              "          element.innerHTML = '';\n",
              "          dataTable['output_type'] = 'display_data';\n",
              "          await google.colab.output.renderOutput(dataTable, element);\n",
              "          const docLink = document.createElement('div');\n",
              "          docLink.innerHTML = docLinkHtml;\n",
              "          element.appendChild(docLink);\n",
              "        }\n",
              "      </script>\n",
              "    </div>\n",
              "  </div>\n",
              "  "
            ]
          },
          "metadata": {},
          "execution_count": 5
        }
      ]
    },
    {
      "cell_type": "code",
      "source": [
        "df_tv.Sentiment.unique()"
      ],
      "metadata": {
        "colab": {
          "base_uri": "https://localhost:8080/"
        },
        "id": "kJyiEgrRJfbv",
        "outputId": "4bb5ca57-8c82-431c-88e6-8cc696ad99f0"
      },
      "execution_count": 6,
      "outputs": [
        {
          "output_type": "execute_result",
          "data": {
            "text/plain": [
              "array([1, 2, 3, 4, 0])"
            ]
          },
          "metadata": {},
          "execution_count": 6
        }
      ]
    },
    {
      "cell_type": "code",
      "source": [
        "df_tv.drop(columns=['SentenceId'], inplace=True)\n",
        "df_tt.drop(columns=['SentenceId'], inplace=True)\n",
        "df_tv.columns"
      ],
      "metadata": {
        "colab": {
          "base_uri": "https://localhost:8080/"
        },
        "id": "F7M2bP3NGKFc",
        "outputId": "74ed1b17-dc3b-4b53-9087-98a5b0697924"
      },
      "execution_count": 7,
      "outputs": [
        {
          "output_type": "execute_result",
          "data": {
            "text/plain": [
              "Index(['Phrase', 'Sentiment'], dtype='object')"
            ]
          },
          "metadata": {},
          "execution_count": 7
        }
      ]
    },
    {
      "cell_type": "code",
      "source": [
        "def clean_text(s):\n",
        "  s = s.lower()\n",
        "  s = s.replace(\"'\", \"\")\n",
        "  tokens = []\n",
        "  for w in s.split():\n",
        "    if w.isalpha(): tokens.append(w)\n",
        "  return ' '.join(tokens)"
      ],
      "metadata": {
        "id": "8917uz1DlxEt"
      },
      "execution_count": 8,
      "outputs": []
    },
    {
      "cell_type": "code",
      "source": [
        "df_tv.Phrase = df_tv.Phrase.apply(clean_text)\n",
        "df_tt.Phrase = df_tt.Phrase.apply(clean_text)"
      ],
      "metadata": {
        "id": "oHx7zYR0n8vO"
      },
      "execution_count": 9,
      "outputs": []
    },
    {
      "cell_type": "code",
      "source": [
        "df_tr, df_vl = train_test_split(df_tv, test_size=0.2, stratify=df_tv['Sentiment'], random_state=SEED)\n",
        "df_tr.shape, df_vl.shape"
      ],
      "metadata": {
        "colab": {
          "base_uri": "https://localhost:8080/"
        },
        "id": "ovHjtiJZQ1h_",
        "outputId": "8dfd3382-b7c7-429d-fee7-90eb4ba59393"
      },
      "execution_count": 10,
      "outputs": [
        {
          "output_type": "execute_result",
          "data": {
            "text/plain": [
              "((124848, 2), (31212, 2))"
            ]
          },
          "metadata": {},
          "execution_count": 10
        }
      ]
    },
    {
      "cell_type": "code",
      "source": [
        "tokenizer = Tokenizer()\n",
        "tokenizer.fit_on_texts(df_tr.Phrase)"
      ],
      "metadata": {
        "id": "EWQlwylhGcBf"
      },
      "execution_count": 11,
      "outputs": []
    },
    {
      "cell_type": "code",
      "source": [
        "xtr = tokenizer.texts_to_sequences(df_tr.Phrase)\n",
        "xvl = tokenizer.texts_to_sequences(df_vl.Phrase)"
      ],
      "metadata": {
        "id": "sDVHJW6bJCuA"
      },
      "execution_count": 12,
      "outputs": []
    },
    {
      "cell_type": "code",
      "source": [
        "len(tokenizer.word_counts)"
      ],
      "metadata": {
        "colab": {
          "base_uri": "https://localhost:8080/"
        },
        "id": "YwtvAERxoraP",
        "outputId": "a0b8df26-e7ff-4a88-cd05-669e43fbd3fb"
      },
      "execution_count": 13,
      "outputs": [
        {
          "output_type": "execute_result",
          "data": {
            "text/plain": [
              "14657"
            ]
          },
          "metadata": {},
          "execution_count": 13
        }
      ]
    },
    {
      "cell_type": "code",
      "source": [
        "max([len(x) for x in xtr])"
      ],
      "metadata": {
        "colab": {
          "base_uri": "https://localhost:8080/"
        },
        "id": "XezNCpQ0pGFh",
        "outputId": "f644aa55-2f2a-409e-f62e-f1cd6efda52d"
      },
      "execution_count": 14,
      "outputs": [
        {
          "output_type": "execute_result",
          "data": {
            "text/plain": [
              "48"
            ]
          },
          "metadata": {},
          "execution_count": 14
        }
      ]
    },
    {
      "cell_type": "code",
      "source": [
        "input_length = 64\n",
        "embedding_length = 128\n",
        "vocab_size = 15000"
      ],
      "metadata": {
        "id": "-GA7zMmEJSI-"
      },
      "execution_count": 15,
      "outputs": []
    },
    {
      "cell_type": "code",
      "source": [
        "xtr = pad_sequences(xtr, maxlen=input_length)\n",
        "xvl = pad_sequences(xvl, maxlen=input_length)\n",
        "xtr.shape, xvl.shape"
      ],
      "metadata": {
        "colab": {
          "base_uri": "https://localhost:8080/"
        },
        "id": "W7giBBVgKp7X",
        "outputId": "2f3b74ac-0cf0-4b57-9e52-c44e4cdc2628"
      },
      "execution_count": 16,
      "outputs": [
        {
          "output_type": "execute_result",
          "data": {
            "text/plain": [
              "((124848, 64), (31212, 64))"
            ]
          },
          "metadata": {},
          "execution_count": 16
        }
      ]
    },
    {
      "cell_type": "code",
      "source": [
        "model = kr.models.Sequential([\n",
        "    kr.layers.Input((input_length,)),\n",
        "    kr.layers.Embedding(input_dim=vocab_size, output_dim=embedding_length),\n",
        "    kr.layers.Bidirectional(kr.layers.LSTM(64, return_sequences=True)),\n",
        "    kr.layers.Bidirectional(kr.layers.LSTM(64, return_sequences=False)),\n",
        "    kr.layers.Dense(512, activation='relu'),\n",
        "    kr.layers.Dropout(0.2),\n",
        "    kr.layers.Dense(NUM_CLASSES, activation='softmax')\n",
        "])"
      ],
      "metadata": {
        "id": "n3CQ8yvUM25W"
      },
      "execution_count": 17,
      "outputs": []
    },
    {
      "cell_type": "code",
      "source": [
        "model.summary()"
      ],
      "metadata": {
        "colab": {
          "base_uri": "https://localhost:8080/"
        },
        "id": "MP6WK6HlO0bt",
        "outputId": "537a376b-23b8-4591-fb8c-7f7bf97814aa"
      },
      "execution_count": 18,
      "outputs": [
        {
          "output_type": "stream",
          "name": "stdout",
          "text": [
            "Model: \"sequential\"\n",
            "_________________________________________________________________\n",
            " Layer (type)                Output Shape              Param #   \n",
            "=================================================================\n",
            " embedding (Embedding)       (None, 64, 128)           1920000   \n",
            "                                                                 \n",
            " bidirectional (Bidirectiona  (None, 64, 128)          98816     \n",
            " l)                                                              \n",
            "                                                                 \n",
            " bidirectional_1 (Bidirectio  (None, 128)              98816     \n",
            " nal)                                                            \n",
            "                                                                 \n",
            " dense (Dense)               (None, 512)               66048     \n",
            "                                                                 \n",
            " dropout (Dropout)           (None, 512)               0         \n",
            "                                                                 \n",
            " dense_1 (Dense)             (None, 5)                 2565      \n",
            "                                                                 \n",
            "=================================================================\n",
            "Total params: 2,186,245\n",
            "Trainable params: 2,186,245\n",
            "Non-trainable params: 0\n",
            "_________________________________________________________________\n"
          ]
        }
      ]
    },
    {
      "cell_type": "code",
      "source": [
        "model.compile(optimizer=kr.optimizers.Adam(learning_rate=0.001), loss=kr.losses.SparseCategoricalCrossentropy(), metrics=['accuracy'])"
      ],
      "metadata": {
        "id": "OZrzSmZbO5mU"
      },
      "execution_count": 19,
      "outputs": []
    },
    {
      "cell_type": "code",
      "source": [
        "early_stopping = kr.callbacks.EarlyStopping(monitor='val_accuracy', patience=PATIENCE, restore_best_weights=True)"
      ],
      "metadata": {
        "id": "XPJ342tFPmw0"
      },
      "execution_count": 20,
      "outputs": []
    },
    {
      "cell_type": "code",
      "source": [
        "model.fit(xtr, df_tr.Sentiment, epochs=EPOCHS, batch_size=BATCHS, validation_data=(xvl, df_vl.Sentiment), callbacks=[early_stopping], verbose=True, shuffle=True)"
      ],
      "metadata": {
        "colab": {
          "base_uri": "https://localhost:8080/"
        },
        "id": "FKyBb1xaPPlF",
        "outputId": "84d26765-1bbe-44b0-b95b-cf5812b4096d"
      },
      "execution_count": 21,
      "outputs": [
        {
          "output_type": "stream",
          "name": "stdout",
          "text": [
            "Epoch 1/50\n",
            "976/976 [==============================] - 28s 22ms/step - loss: 0.9900 - accuracy: 0.6026 - val_loss: 0.8622 - val_accuracy: 0.6458\n",
            "Epoch 2/50\n",
            "976/976 [==============================] - 20s 21ms/step - loss: 0.7811 - accuracy: 0.6829 - val_loss: 0.8172 - val_accuracy: 0.6667\n",
            "Epoch 3/50\n",
            "976/976 [==============================] - 20s 21ms/step - loss: 0.7017 - accuracy: 0.7089 - val_loss: 0.8240 - val_accuracy: 0.6663\n",
            "Epoch 4/50\n",
            "976/976 [==============================] - 21s 21ms/step - loss: 0.6476 - accuracy: 0.7266 - val_loss: 0.8362 - val_accuracy: 0.6693\n",
            "Epoch 5/50\n",
            "976/976 [==============================] - 20s 21ms/step - loss: 0.6079 - accuracy: 0.7403 - val_loss: 0.8884 - val_accuracy: 0.6687\n",
            "Epoch 6/50\n",
            "976/976 [==============================] - 20s 21ms/step - loss: 0.5727 - accuracy: 0.7507 - val_loss: 0.9551 - val_accuracy: 0.6665\n",
            "Epoch 7/50\n",
            "976/976 [==============================] - 20s 21ms/step - loss: 0.5428 - accuracy: 0.7620 - val_loss: 1.0255 - val_accuracy: 0.6665\n",
            "Epoch 8/50\n",
            "976/976 [==============================] - 20s 21ms/step - loss: 0.5131 - accuracy: 0.7704 - val_loss: 1.1110 - val_accuracy: 0.6619\n",
            "Epoch 9/50\n",
            "976/976 [==============================] - 21s 21ms/step - loss: 0.4862 - accuracy: 0.7798 - val_loss: 1.2166 - val_accuracy: 0.6597\n",
            "Epoch 10/50\n",
            "976/976 [==============================] - 20s 21ms/step - loss: 0.4599 - accuracy: 0.7891 - val_loss: 1.3094 - val_accuracy: 0.6564\n",
            "Epoch 11/50\n",
            "976/976 [==============================] - 20s 21ms/step - loss: 0.4347 - accuracy: 0.7979 - val_loss: 1.4969 - val_accuracy: 0.6481\n",
            "Epoch 12/50\n",
            "976/976 [==============================] - 20s 20ms/step - loss: 0.4116 - accuracy: 0.8052 - val_loss: 1.6201 - val_accuracy: 0.6429\n",
            "Epoch 13/50\n",
            "976/976 [==============================] - 20s 21ms/step - loss: 0.3906 - accuracy: 0.8135 - val_loss: 1.7847 - val_accuracy: 0.6405\n",
            "Epoch 14/50\n",
            "976/976 [==============================] - 21s 22ms/step - loss: 0.3718 - accuracy: 0.8204 - val_loss: 1.9289 - val_accuracy: 0.6410\n",
            "Epoch 15/50\n",
            "976/976 [==============================] - 20s 21ms/step - loss: 0.3538 - accuracy: 0.8284 - val_loss: 2.0302 - val_accuracy: 0.6376\n",
            "Epoch 16/50\n",
            "976/976 [==============================] - 20s 21ms/step - loss: 0.3367 - accuracy: 0.8355 - val_loss: 2.2451 - val_accuracy: 0.6383\n",
            "Epoch 17/50\n",
            "976/976 [==============================] - 20s 21ms/step - loss: 0.3209 - accuracy: 0.8416 - val_loss: 2.2985 - val_accuracy: 0.6332\n",
            "Epoch 18/50\n",
            "976/976 [==============================] - 20s 21ms/step - loss: 0.3052 - accuracy: 0.8481 - val_loss: 2.4541 - val_accuracy: 0.6318\n",
            "Epoch 19/50\n",
            "976/976 [==============================] - 21s 21ms/step - loss: 0.2952 - accuracy: 0.8529 - val_loss: 2.4006 - val_accuracy: 0.6340\n"
          ]
        },
        {
          "output_type": "execute_result",
          "data": {
            "text/plain": [
              "<keras.callbacks.History at 0x7f438a442150>"
            ]
          },
          "metadata": {},
          "execution_count": 21
        }
      ]
    },
    {
      "cell_type": "code",
      "source": [
        "model.evaluate(xvl, df_vl.Sentiment)"
      ],
      "metadata": {
        "colab": {
          "base_uri": "https://localhost:8080/"
        },
        "id": "NVBlwdKPR4VN",
        "outputId": "fa9a66c3-85d7-4a30-dc21-735fd6f3f03a"
      },
      "execution_count": 22,
      "outputs": [
        {
          "output_type": "stream",
          "name": "stdout",
          "text": [
            "976/976 [==============================] - 7s 7ms/step - loss: 0.8361 - accuracy: 0.6693\n"
          ]
        },
        {
          "output_type": "execute_result",
          "data": {
            "text/plain": [
              "[0.8361499309539795, 0.6692618131637573]"
            ]
          },
          "metadata": {},
          "execution_count": 22
        }
      ]
    },
    {
      "cell_type": "code",
      "source": [
        ""
      ],
      "metadata": {
        "id": "WY9nu0g7x9Bu"
      },
      "execution_count": null,
      "outputs": []
    }
  ]
}